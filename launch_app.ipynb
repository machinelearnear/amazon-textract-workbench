{
 "cells": [
  {
   "cell_type": "markdown",
   "id": "53b74bb6-8659-490f-b0db-16bbc6babfa1",
   "metadata": {
    "tags": []
   },
   "source": [
    "[![Open In SageMaker Studio Lab](https://studiolab.sagemaker.aws/studiolab.svg)](https://studiolab.sagemaker.aws/import/github/machinelearnear/amazon-textract-workbench/blob/main/launch_app.ipynb)"
   ]
  },
  {
   "cell_type": "markdown",
   "id": "261a11ab-2952-4901-a5ee-99a090dc13ed",
   "metadata": {
    "tags": []
   },
   "source": [
    "# Launch Amazon Textract Workbench"
   ]
  },
  {
   "cell_type": "markdown",
   "id": "d53b93c1-3534-4261-9412-3a1cab414fe3",
   "metadata": {},
   "source": [
    "- [Extract Information By Using Document Geometry + Amazon Textract](https://github.com/machinelearnear/extract-info-by-doc-geometry-aws-textract)\n",
    "- [Access AWS resources from Studiolab](https://github.com/aws/studio-lab-examples/blob/main/connect-to-aws/Access_AWS_from_Studio_Lab.ipynb)\n",
    "- [Textractor GeoFinder Sample Notebook](https://github.com/aws-samples/amazon-textract-textractor/blob/master/tpipelinegeofinder/geofinder-sample-notebook.ipynb)\n",
    "- [IDP Workshop](https://catalog.us-east-1.prod.workshops.aws/workshops/c2af04b2-54ab-4b3d-be73-c7dd39074b20/en-US/)"
   ]
  },
  {
   "cell_type": "markdown",
   "id": "3eeac177-b2b7-45cd-84e3-5921f851bc0c",
   "metadata": {},
   "source": [
    "Following the same capability for `Tensorboard` on SageMaker Studio, you can now apply the same to work with a `Streamlit` or `Gradio` application, except the default port (8051) set by `Streamlit` for example is not open."
   ]
  },
  {
   "cell_type": "markdown",
   "id": "4568332b-7641-4fe6-a1ee-b7b41587b62a",
   "metadata": {},
   "source": [
    "### Configure Studio Lab"
   ]
  },
  {
   "cell_type": "code",
   "execution_count": 11,
   "id": "f4f42126-3a34-4aef-bf71-29aee7243c32",
   "metadata": {},
   "outputs": [],
   "source": [
    "studiolab_domain = 'luzdatd5d7fmka0'\n",
    "studiolab_region = 'us-east-2'\n",
    "studiolab_url = f'https://{studiolab_domain}.studio.{studiolab_region}.sagemaker.aws/studiolab/default/jupyter/proxy/6006/'"
   ]
  },
  {
   "cell_type": "markdown",
   "id": "092616ee-b36a-47e5-9ba1-26abb676b69a",
   "metadata": {
    "tags": []
   },
   "source": [
    "### Run Streamlit"
   ]
  },
  {
   "cell_type": "code",
   "execution_count": null,
   "id": "39f6d3a9-f9dc-47e1-bdc9-77dab76c7790",
   "metadata": {},
   "outputs": [
    {
     "name": "stdout",
     "output_type": "stream",
     "text": [
      "Wait a few seconds and then click the link below to open your Streamlit application \n",
      "https://luzdatd5d7fmka0.studio.us-east-2.sagemaker.aws/studiolab/default/jupyter/proxy/6006/\n",
      "\n",
      "\u001b[0m\n",
      "\u001b[34m\u001b[1m  You can now view your Streamlit app in your browser.\u001b[0m\n",
      "\u001b[0m\n",
      "\u001b[34m  Network URL: \u001b[0m\u001b[1mhttp://169.254.255.2:6006\u001b[0m\n",
      "\u001b[34m  External URL: \u001b[0m\u001b[1mhttp://3.132.111.50:6006\u001b[0m\n",
      "\u001b[0m\n",
      "2022-03-28 17:17:07.362 Traceback (most recent call last):\n",
      "  File \"/home/studio-lab-user/.conda/envs/machinelearnear-textract/lib/python3.9/site-packages/streamlit/scriptrunner/script_runner.py\", line 443, in _run_script\n",
      "    exec(code, module.__dict__)\n",
      "  File \"/home/studio-lab-user/amazon-textract-workbench/app.py\", line 117, in <module>\n",
      "    main()\n",
      "  File \"/home/studio-lab-user/amazon-textract-workbench/app.py\", line 40, in main\n",
      "    if not credentials.empty:\n",
      "AttributeError: 'NoneType' object has no attribute 'empty'\n",
      "\n"
     ]
    }
   ],
   "source": [
    "print(f'Wait a few seconds and then click the link below to open your Streamlit application \\n{studiolab_url}\\n')\n",
    "# launch\n",
    "!streamlit run app.py --server.port 6006 # or 80/8080"
   ]
  },
  {
   "cell_type": "code",
   "execution_count": null,
   "id": "9159cb18-1bff-4b22-9f46-02ff9edec57f",
   "metadata": {},
   "outputs": [],
   "source": []
  }
 ],
 "metadata": {
  "kernelspec": {
   "display_name": "machinelearnear-textract:Python",
   "language": "python",
   "name": "conda-env-machinelearnear-textract-py"
  },
  "language_info": {
   "codemirror_mode": {
    "name": "ipython",
    "version": 3
   },
   "file_extension": ".py",
   "mimetype": "text/x-python",
   "name": "python",
   "nbconvert_exporter": "python",
   "pygments_lexer": "ipython3",
   "version": "3.9.12"
  }
 },
 "nbformat": 4,
 "nbformat_minor": 5
}
