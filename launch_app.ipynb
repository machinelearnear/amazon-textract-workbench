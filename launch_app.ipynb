{
 "cells": [
  {
   "cell_type": "markdown",
   "id": "261a11ab-2952-4901-a5ee-99a090dc13ed",
   "metadata": {
    "tags": []
   },
   "source": [
    "# Amazon Textract Workbench Demo"
   ]
  },
  {
   "cell_type": "markdown",
   "id": "4568332b-7641-4fe6-a1ee-b7b41587b62a",
   "metadata": {
    "tags": []
   },
   "source": [
    "## Configure session"
   ]
  },
  {
   "cell_type": "code",
   "execution_count": 11,
   "id": "f4f42126-3a34-4aef-bf71-29aee7243c32",
   "metadata": {},
   "outputs": [],
   "source": [
    "domain = 'luzdatd5d7fmka0'\n",
    "region = 'us-east-2'"
   ]
  },
  {
   "cell_type": "code",
   "execution_count": 12,
   "id": "2142d894-5ea6-47f7-bc1f-a4a77db71c9d",
   "metadata": {},
   "outputs": [],
   "source": [
    "fname = 'app.py'\n",
    "# fname = 'end_to_end_app.py'"
   ]
  },
  {
   "cell_type": "markdown",
   "id": "092616ee-b36a-47e5-9ba1-26abb676b69a",
   "metadata": {
    "tags": []
   },
   "source": [
    "## Launch demo"
   ]
  },
  {
   "cell_type": "code",
   "execution_count": 13,
   "id": "e6bb77c0-c7e7-4df9-87d7-a7738f2b0f5f",
   "metadata": {},
   "outputs": [],
   "source": [
    "def launch_app(fname, domain, region):\n",
    "    print('Wait a few seconds, then click the below to open your Streamlit app')\n",
    "    print(f'https://{domain}.studio.{region}.sagemaker.aws/studiolab/default/jupyter/proxy/6006/')\n",
    "    !streamlit run $app_to_launch --server.port 6006;"
   ]
  },
  {
   "cell_type": "code",
   "execution_count": null,
   "id": "befe6cbd-a73f-4597-b1c1-a0e9e8406f5b",
   "metadata": {},
   "outputs": [
    {
     "name": "stdout",
     "output_type": "stream",
     "text": [
      "Wait a few seconds, then click the below to open your Streamlit app\n",
      "https://luzdatd5d7fmka0.studio.us-east-2.sagemaker.aws/studiolab/default/jupyter/proxy/6006/\n",
      "\u001b[0m\n",
      "\u001b[34m\u001b[1m  You can now view your Streamlit app in your browser.\u001b[0m\n",
      "\u001b[0m\n",
      "\u001b[34m  Network URL: \u001b[0m\u001b[1mhttp://169.254.255.2:6006\u001b[0m\n",
      "\u001b[34m  External URL: \u001b[0m\u001b[1mhttp://3.132.111.50:6006\u001b[0m\n",
      "\u001b[0m\n",
      "2022-05-05 18:12:56.151174: W tensorflow/stream_executor/platform/default/dso_loader.cc:64] Could not load dynamic library 'libcudart.so.11.0'; dlerror: libcudart.so.11.0: cannot open shared object file: No such file or directory\n",
      "2022-05-05 18:12:56.151212: I tensorflow/stream_executor/cuda/cudart_stub.cc:29] Ignore above cudart dlerror if you do not have a GPU set up on your machine.\n"
     ]
    }
   ],
   "source": [
    "launch_app(fname, domain, region)"
   ]
  },
  {
   "cell_type": "code",
   "execution_count": null,
   "id": "c3fdfa2e-578d-41d4-aefd-9e150136bcda",
   "metadata": {},
   "outputs": [],
   "source": []
  }
 ],
 "metadata": {
  "kernelspec": {
   "display_name": "machinelearnear-textract:Python",
   "language": "python",
   "name": "conda-env-machinelearnear-textract-py"
  },
  "language_info": {
   "codemirror_mode": {
    "name": "ipython",
    "version": 3
   },
   "file_extension": ".py",
   "mimetype": "text/x-python",
   "name": "python",
   "nbconvert_exporter": "python",
   "pygments_lexer": "ipython3",
   "version": "3.7.12"
  }
 },
 "nbformat": 4,
 "nbformat_minor": 5
}
