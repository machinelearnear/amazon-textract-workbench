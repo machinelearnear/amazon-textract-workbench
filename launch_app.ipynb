{
 "cells": [
  {
   "cell_type": "markdown",
   "id": "261a11ab-2952-4901-a5ee-99a090dc13ed",
   "metadata": {
    "tags": []
   },
   "source": [
    "# Amazon Textract Workbench Demo"
   ]
  },
  {
   "cell_type": "markdown",
   "id": "4568332b-7641-4fe6-a1ee-b7b41587b62a",
   "metadata": {
    "tags": []
   },
   "source": [
    "## (1) Configure Studio Lab"
   ]
  },
  {
   "cell_type": "code",
   "execution_count": null,
   "id": "f4f42126-3a34-4aef-bf71-29aee7243c32",
   "metadata": {},
   "outputs": [],
   "source": [
    "studiolab_domain = 'luzdatd5d7fmka0'\n",
    "studiolab_region = 'us-east-2'"
   ]
  },
  {
   "cell_type": "code",
   "execution_count": null,
   "id": "baef2942-018f-44bf-afd3-fc33f19834af",
   "metadata": {},
   "outputs": [],
   "source": [
    "studiolab_url = f'https://{studiolab_domain}.studio.{studiolab_region}.sagemaker.aws/studiolab/default/jupyter/proxy/6006/'"
   ]
  },
  {
   "cell_type": "markdown",
   "id": "092616ee-b36a-47e5-9ba1-26abb676b69a",
   "metadata": {
    "tags": []
   },
   "source": [
    "## (2) Launch demo"
   ]
  },
  {
   "cell_type": "code",
   "execution_count": null,
   "id": "39f6d3a9-f9dc-47e1-bdc9-77dab76c7790",
   "metadata": {},
   "outputs": [],
   "source": [
    "print(f'Wait a few seconds and then click the link below to open your Streamlit application \\n{studiolab_url}\\n')\n",
    "!streamlit run app.py --server.port 6006 --logger.level 'error' # or 80/8080"
   ]
  },
  {
   "cell_type": "code",
   "execution_count": null,
   "id": "9159cb18-1bff-4b22-9f46-02ff9edec57f",
   "metadata": {},
   "outputs": [],
   "source": []
  },
  {
   "cell_type": "code",
   "execution_count": null,
   "id": "c1b40ef8-f404-4e9f-a70c-3b7f5318a376",
   "metadata": {},
   "outputs": [],
   "source": []
  }
 ],
 "metadata": {
  "kernelspec": {
   "display_name": "machinelearnear-textract:Python",
   "language": "python",
   "name": "conda-env-machinelearnear-textract-py"
  },
  "language_info": {
   "codemirror_mode": {
    "name": "ipython",
    "version": 3
   },
   "file_extension": ".py",
   "mimetype": "text/x-python",
   "name": "python",
   "nbconvert_exporter": "python",
   "pygments_lexer": "ipython3",
   "version": "3.7.12"
  }
 },
 "nbformat": 4,
 "nbformat_minor": 5
}
